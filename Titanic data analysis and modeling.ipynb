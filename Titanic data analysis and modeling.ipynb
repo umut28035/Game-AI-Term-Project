{
 "cells": [
  {
   "cell_type": "markdown",
   "metadata": {},
   "source": [
    "#  Importing Libraries"
   ]
  },
  {
   "cell_type": "code",
   "execution_count": 1,
   "metadata": {
    "_cell_guid": "b1076dfc-b9ad-4769-8c92-a6c4dae69d19",
    "_uuid": "8f2839f25d086af736a60e9eeb907d3b93b6e0e5",
    "execution": {
     "iopub.execute_input": "2021-06-11T06:45:01.460922Z",
     "iopub.status.busy": "2021-06-11T06:45:01.460361Z",
     "iopub.status.idle": "2021-06-11T06:45:02.393960Z",
     "shell.execute_reply": "2021-06-11T06:45:02.392785Z",
     "shell.execute_reply.started": "2021-06-11T06:45:01.460797Z"
    }
   },
   "outputs": [],
   "source": [
    "import numpy as np\n",
    "import pandas as pd\n",
    "import seaborn as sns\n",
    "import matplotlib.pyplot as plt\n",
    "\n",
    "# Setting environment to ignore future warnings\n",
    "import warnings\n",
    "warnings.simplefilter('ignore')\n",
    "\n",
    "# Importing Models\n",
    "from sklearn.linear_model import LogisticRegression\n",
    "from sklearn.neighbors import KNeighborsClassifier\n",
    "from sklearn.ensemble import RandomForestClassifier\n",
    "from sklearn.ensemble import AdaBoostClassifier\n",
    "from sklearn.tree import DecisionTreeClassifier\n",
    "\n",
    "# Importing Evaluation matrces\n",
    "from sklearn.metrics import accuracy_score\n",
    "from sklearn.metrics import precision_score\n",
    "from sklearn.metrics import recall_score\n",
    "from sklearn.metrics import f1_score\n",
    "from sklearn.metrics import confusion_matrix\n",
    "from sklearn.metrics import classification_report\n",
    "from sklearn.metrics import plot_confusion_matrix"
   ]
  },
  {
   "cell_type": "markdown",
   "metadata": {},
   "source": [
    "# Reading Dataset"
   ]
  },
  {
   "cell_type": "code",
   "execution_count": 2,
   "metadata": {
    "execution": {
     "iopub.execute_input": "2021-06-11T06:45:02.407225Z",
     "iopub.status.busy": "2021-06-11T06:45:02.406826Z",
     "iopub.status.idle": "2021-06-11T06:45:02.436629Z",
     "shell.execute_reply": "2021-06-11T06:45:02.435413Z",
     "shell.execute_reply.started": "2021-06-11T06:45:02.407181Z"
    }
   },
   "outputs": [],
   "source": [
    "df = pd.read_csv(r'train.csv')\n",
    "df_test = pd.read_csv(\"test.csv\")"
   ]
  },
  {
   "cell_type": "code",
   "execution_count": 3,
   "metadata": {
    "execution": {
     "iopub.execute_input": "2021-06-11T06:45:02.439479Z",
     "iopub.status.busy": "2021-06-11T06:45:02.438823Z",
     "iopub.status.idle": "2021-06-11T06:45:02.475933Z",
     "shell.execute_reply": "2021-06-11T06:45:02.474522Z",
     "shell.execute_reply.started": "2021-06-11T06:45:02.439420Z"
    },
    "scrolled": true
   },
   "outputs": [
    {
     "data": {
      "text/html": [
       "<div>\n",
       "<style scoped>\n",
       "    .dataframe tbody tr th:only-of-type {\n",
       "        vertical-align: middle;\n",
       "    }\n",
       "\n",
       "    .dataframe tbody tr th {\n",
       "        vertical-align: top;\n",
       "    }\n",
       "\n",
       "    .dataframe thead th {\n",
       "        text-align: right;\n",
       "    }\n",
       "</style>\n",
       "<table border=\"1\" class=\"dataframe\">\n",
       "  <thead>\n",
       "    <tr style=\"text-align: right;\">\n",
       "      <th></th>\n",
       "      <th>PassengerId</th>\n",
       "      <th>Survived</th>\n",
       "      <th>Pclass</th>\n",
       "      <th>Name</th>\n",
       "      <th>Sex</th>\n",
       "      <th>Age</th>\n",
       "      <th>SibSp</th>\n",
       "      <th>Parch</th>\n",
       "      <th>Ticket</th>\n",
       "      <th>Fare</th>\n",
       "      <th>Cabin</th>\n",
       "      <th>Embarked</th>\n",
       "    </tr>\n",
       "  </thead>\n",
       "  <tbody>\n",
       "    <tr>\n",
       "      <th>0</th>\n",
       "      <td>1</td>\n",
       "      <td>0</td>\n",
       "      <td>3</td>\n",
       "      <td>Braund, Mr. Owen Harris</td>\n",
       "      <td>male</td>\n",
       "      <td>22.0</td>\n",
       "      <td>1</td>\n",
       "      <td>0</td>\n",
       "      <td>A/5 21171</td>\n",
       "      <td>7.2500</td>\n",
       "      <td>NaN</td>\n",
       "      <td>S</td>\n",
       "    </tr>\n",
       "    <tr>\n",
       "      <th>1</th>\n",
       "      <td>2</td>\n",
       "      <td>1</td>\n",
       "      <td>1</td>\n",
       "      <td>Cumings, Mrs. John Bradley (Florence Briggs Th...</td>\n",
       "      <td>female</td>\n",
       "      <td>38.0</td>\n",
       "      <td>1</td>\n",
       "      <td>0</td>\n",
       "      <td>PC 17599</td>\n",
       "      <td>71.2833</td>\n",
       "      <td>C85</td>\n",
       "      <td>C</td>\n",
       "    </tr>\n",
       "    <tr>\n",
       "      <th>2</th>\n",
       "      <td>3</td>\n",
       "      <td>1</td>\n",
       "      <td>3</td>\n",
       "      <td>Heikkinen, Miss. Laina</td>\n",
       "      <td>female</td>\n",
       "      <td>26.0</td>\n",
       "      <td>0</td>\n",
       "      <td>0</td>\n",
       "      <td>STON/O2. 3101282</td>\n",
       "      <td>7.9250</td>\n",
       "      <td>NaN</td>\n",
       "      <td>S</td>\n",
       "    </tr>\n",
       "    <tr>\n",
       "      <th>3</th>\n",
       "      <td>4</td>\n",
       "      <td>1</td>\n",
       "      <td>1</td>\n",
       "      <td>Futrelle, Mrs. Jacques Heath (Lily May Peel)</td>\n",
       "      <td>female</td>\n",
       "      <td>35.0</td>\n",
       "      <td>1</td>\n",
       "      <td>0</td>\n",
       "      <td>113803</td>\n",
       "      <td>53.1000</td>\n",
       "      <td>C123</td>\n",
       "      <td>S</td>\n",
       "    </tr>\n",
       "    <tr>\n",
       "      <th>4</th>\n",
       "      <td>5</td>\n",
       "      <td>0</td>\n",
       "      <td>3</td>\n",
       "      <td>Allen, Mr. William Henry</td>\n",
       "      <td>male</td>\n",
       "      <td>35.0</td>\n",
       "      <td>0</td>\n",
       "      <td>0</td>\n",
       "      <td>373450</td>\n",
       "      <td>8.0500</td>\n",
       "      <td>NaN</td>\n",
       "      <td>S</td>\n",
       "    </tr>\n",
       "  </tbody>\n",
       "</table>\n",
       "</div>"
      ],
      "text/plain": [
       "   PassengerId  Survived  Pclass  \\\n",
       "0            1         0       3   \n",
       "1            2         1       1   \n",
       "2            3         1       3   \n",
       "3            4         1       1   \n",
       "4            5         0       3   \n",
       "\n",
       "                                                Name     Sex   Age  SibSp  \\\n",
       "0                            Braund, Mr. Owen Harris    male  22.0      1   \n",
       "1  Cumings, Mrs. John Bradley (Florence Briggs Th...  female  38.0      1   \n",
       "2                             Heikkinen, Miss. Laina  female  26.0      0   \n",
       "3       Futrelle, Mrs. Jacques Heath (Lily May Peel)  female  35.0      1   \n",
       "4                           Allen, Mr. William Henry    male  35.0      0   \n",
       "\n",
       "   Parch            Ticket     Fare Cabin Embarked  \n",
       "0      0         A/5 21171   7.2500   NaN        S  \n",
       "1      0          PC 17599  71.2833   C85        C  \n",
       "2      0  STON/O2. 3101282   7.9250   NaN        S  \n",
       "3      0            113803  53.1000  C123        S  \n",
       "4      0            373450   8.0500   NaN        S  "
      ]
     },
     "execution_count": 3,
     "metadata": {},
     "output_type": "execute_result"
    }
   ],
   "source": [
    "df.head()"
   ]
  },
  {
   "cell_type": "code",
   "execution_count": 4,
   "metadata": {
    "execution": {
     "iopub.execute_input": "2021-06-11T06:45:02.477668Z",
     "iopub.status.busy": "2021-06-11T06:45:02.477344Z",
     "iopub.status.idle": "2021-06-11T06:45:02.483972Z",
     "shell.execute_reply": "2021-06-11T06:45:02.483002Z",
     "shell.execute_reply.started": "2021-06-11T06:45:02.477635Z"
    }
   },
   "outputs": [
    {
     "data": {
      "text/plain": [
       "(891, 12)"
      ]
     },
     "execution_count": 4,
     "metadata": {},
     "output_type": "execute_result"
    }
   ],
   "source": [
    "df.shape"
   ]
  },
  {
   "cell_type": "code",
   "execution_count": 5,
   "metadata": {},
   "outputs": [
    {
     "data": {
      "text/plain": [
       "(418, 11)"
      ]
     },
     "execution_count": 5,
     "metadata": {},
     "output_type": "execute_result"
    }
   ],
   "source": [
    "df_test.shape"
   ]
  },
  {
   "cell_type": "code",
   "execution_count": 6,
   "metadata": {
    "execution": {
     "iopub.execute_input": "2021-06-11T06:45:02.486440Z",
     "iopub.status.busy": "2021-06-11T06:45:02.486084Z",
     "iopub.status.idle": "2021-06-11T06:45:02.517957Z",
     "shell.execute_reply": "2021-06-11T06:45:02.516865Z",
     "shell.execute_reply.started": "2021-06-11T06:45:02.486408Z"
    },
    "scrolled": true
   },
   "outputs": [
    {
     "name": "stdout",
     "output_type": "stream",
     "text": [
      "<class 'pandas.core.frame.DataFrame'>\n",
      "RangeIndex: 891 entries, 0 to 890\n",
      "Data columns (total 12 columns):\n",
      " #   Column       Non-Null Count  Dtype  \n",
      "---  ------       --------------  -----  \n",
      " 0   PassengerId  891 non-null    int64  \n",
      " 1   Survived     891 non-null    int64  \n",
      " 2   Pclass       891 non-null    int64  \n",
      " 3   Name         891 non-null    object \n",
      " 4   Sex          891 non-null    object \n",
      " 5   Age          714 non-null    float64\n",
      " 6   SibSp        891 non-null    int64  \n",
      " 7   Parch        891 non-null    int64  \n",
      " 8   Ticket       891 non-null    object \n",
      " 9   Fare         891 non-null    float64\n",
      " 10  Cabin        204 non-null    object \n",
      " 11  Embarked     889 non-null    object \n",
      "dtypes: float64(2), int64(5), object(5)\n",
      "memory usage: 83.7+ KB\n"
     ]
    }
   ],
   "source": [
    "df.info()"
   ]
  },
  {
   "cell_type": "markdown",
   "metadata": {},
   "source": [
    "## Exploratory Data Analysis"
   ]
  },
  {
   "cell_type": "code",
   "execution_count": 7,
   "metadata": {},
   "outputs": [],
   "source": [
    "# Function to show percentage on bars\n",
    "def per_on_bar(plot,feature):\n",
    "    total = len(feature)\n",
    "    for p in plot.patches:\n",
    "        percentage = '{:.1f}%'.format(100 * p.get_height()/total)\n",
    "        x = p.get_x() + p.get_width() / 2 - 0.08\n",
    "        y = p.get_y() + p.get_height()\n",
    "        ax.annotate(percentage, (x, y), size = 12)\n",
    "    plt.show()"
   ]
  },
  {
   "cell_type": "code",
   "execution_count": 8,
   "metadata": {
    "execution": {
     "iopub.execute_input": "2021-06-11T06:45:02.520058Z",
     "iopub.status.busy": "2021-06-11T06:45:02.519453Z",
     "iopub.status.idle": "2021-06-11T06:45:02.692099Z",
     "shell.execute_reply": "2021-06-11T06:45:02.690979Z",
     "shell.execute_reply.started": "2021-06-11T06:45:02.520012Z"
    }
   },
   "outputs": [
    {
     "data": {
      "image/png": "[encoded data removed]",
      "text/plain": [
       "<Figure size 864x360 with 1 Axes>"
      ]
     },
     "metadata": {
      "needs_background": "light"
     },
     "output_type": "display_data"
    }
   ],
   "source": [
    "plt.figure(figsize=(12, 5))\n",
    "sns.set_style(\"whitegrid\")\n",
    "ax = sns.countplot(df.Survived, palette=sns.palettes.color_palette(\"Paired\"))\n",
    "per_on_bar(ax, df.Survived)"
   ]
  },
  {
   "cell_type": "markdown",
   "metadata": {},
   "source": [
    "We can see that **61**% were died and only **39**% were survived."
   ]
  },
  {
   "cell_type": "code",
   "execution_count": 9,
   "metadata": {
    "execution": {
     "iopub.execute_input": "2021-06-11T06:45:02.694737Z",
     "iopub.status.busy": "2021-06-11T06:45:02.694415Z",
     "iopub.status.idle": "2021-06-11T06:45:02.847994Z",
     "shell.execute_reply": "2021-06-11T06:45:02.846970Z",
     "shell.execute_reply.started": "2021-06-11T06:45:02.694705Z"
    }
   },
   "outputs": [
    {
     "data": {
      "image/png": "[encoded data removed]",
      "text/plain": [
       "<Figure size 432x288 with 1 Axes>"
      ]
     },
     "metadata": {},
     "output_type": "display_data"
    }
   ],
   "source": [
    "sns.countplot(data=df, x='Survived',hue='Sex') \n",
    "plt.show()"
   ]
  },
  {
   "cell_type": "markdown",
   "metadata": {},
   "source": [
    "By looking at the relationship of Sex and Survived we can see most of Female Passengers were survived."
   ]
  },
  {
   "cell_type": "code",
   "execution_count": 10,
   "metadata": {
    "execution": {
     "iopub.execute_input": "2021-06-11T06:45:02.983752Z",
     "iopub.status.busy": "2021-06-11T06:45:02.983439Z",
     "iopub.status.idle": "2021-06-11T06:45:03.181264Z",
     "shell.execute_reply": "2021-06-11T06:45:03.180235Z",
     "shell.execute_reply.started": "2021-06-11T06:45:02.983723Z"
    }
   },
   "outputs": [
    {
     "data": {
      "image/png": "[encoded data removed]",
      "text/plain": [
       "<Figure size 432x288 with 1 Axes>"
      ]
     },
     "metadata": {},
     "output_type": "display_data"
    }
   ],
   "source": [
    "sns.countplot(data=df, x='Survived', hue='Pclass')\n",
    "plt.show()"
   ]
  },
  {
   "cell_type": "markdown",
   "metadata": {},
   "source": [
    "Peoples who stayed in 1st class were survived most, but the difference is not very much."
   ]
  },
  {
   "cell_type": "code",
   "execution_count": 11,
   "metadata": {
    "execution": {
     "iopub.execute_input": "2021-06-11T06:45:03.345112Z",
     "iopub.status.busy": "2021-06-11T06:45:03.344653Z",
     "iopub.status.idle": "2021-06-11T06:45:03.570444Z",
     "shell.execute_reply": "2021-06-11T06:45:03.569786Z",
     "shell.execute_reply.started": "2021-06-11T06:45:03.345081Z"
    }
   },
   "outputs": [
    {
     "data": {
      "image/png": "[encoded data removed]",
      "text/plain": [
       "<Figure size 432x288 with 1 Axes>"
      ]
     },
     "metadata": {},
     "output_type": "display_data"
    }
   ],
   "source": [
    "sns.countplot(data=df, x='Survived', hue='SibSp')\n",
    "plt.show()"
   ]
  },
  {
   "cell_type": "markdown",
   "metadata": {},
   "source": [
    "Most peoples were survived who were having Less number of siblings."
   ]
  },
  {
   "cell_type": "markdown",
   "metadata": {},
   "source": [
    "# Conclusion"
   ]
  },
  {
   "cell_type": "markdown",
   "metadata": {},
   "source": [
    "From all of this analysis we draw following conclusions\n",
    "- Almost **61** people were Died.\n",
    "- If one will look in the gender approach then one can say women were more likely to survive.\n",
    "- The upper-class passengers more likely to survive than lower-class passengers.\n",
    "- Most peoples were survived who were having Less number of siblings."
   ]
  },
  {
   "cell_type": "markdown",
   "metadata": {},
   "source": [
    "## Data Preprocessing"
   ]
  },
  {
   "cell_type": "code",
   "execution_count": 12,
   "metadata": {
    "execution": {
     "iopub.execute_input": "2021-06-11T06:45:03.571830Z",
     "iopub.status.busy": "2021-06-11T06:45:03.571402Z",
     "iopub.status.idle": "2021-06-11T06:45:03.576096Z",
     "shell.execute_reply": "2021-06-11T06:45:03.575220Z",
     "shell.execute_reply.started": "2021-06-11T06:45:03.571799Z"
    }
   },
   "outputs": [
    {
     "data": {
      "text/plain": [
       "PassengerId      0\n",
       "Survived         0\n",
       "Pclass           0\n",
       "Name             0\n",
       "Sex              0\n",
       "Age            177\n",
       "SibSp            0\n",
       "Parch            0\n",
       "Ticket           0\n",
       "Fare             0\n",
       "Cabin          687\n",
       "Embarked         2\n",
       "dtype: int64"
      ]
     },
     "execution_count": 12,
     "metadata": {},
     "output_type": "execute_result"
    }
   ],
   "source": [
    "df.isnull().sum()"
   ]
  },
  {
   "cell_type": "code",
   "execution_count": 13,
   "metadata": {},
   "outputs": [
    {
     "data": {
      "text/plain": [
       "PassengerId      0\n",
       "Pclass           0\n",
       "Name             0\n",
       "Sex              0\n",
       "Age             86\n",
       "SibSp            0\n",
       "Parch            0\n",
       "Ticket           0\n",
       "Fare             1\n",
       "Cabin          327\n",
       "Embarked         0\n",
       "dtype: int64"
      ]
     },
     "execution_count": 13,
     "metadata": {},
     "output_type": "execute_result"
    }
   ],
   "source": [
    "df_test.isnull().sum()"
   ]
  },
  {
   "cell_type": "code",
   "execution_count": 14,
   "metadata": {
    "execution": {
     "iopub.execute_input": "2021-06-11T06:45:03.786466Z",
     "iopub.status.busy": "2021-06-11T06:45:03.786007Z",
     "iopub.status.idle": "2021-06-11T06:45:03.796641Z",
     "shell.execute_reply": "2021-06-11T06:45:03.795661Z",
     "shell.execute_reply.started": "2021-06-11T06:45:03.786418Z"
    }
   },
   "outputs": [],
   "source": [
    "# Dropping Cabin because it is having most of the null values\n",
    "df= df.drop('Cabin', axis=1 )\n",
    "df_test = df_test.drop(\"Cabin\", axis=1)\n",
    "\n",
    "# Dropping null valus from Embarked column\n",
    "df= df.dropna(subset=['Embarked'], axis=0)\n",
    "\n",
    "# Filling NAN values of age feature\n",
    "df['Age'] = df.groupby('Pclass')['Age'].transform(lambda val: val.fillna(val.mean()))\n",
    "df_test['Age'] = df_test.groupby('Pclass')['Age'].transform(lambda val: val.fillna(val.mean()))\n",
    "df_test.Fare.fillna(df_test.Fare.mean(), inplace=True)"
   ]
  },
  {
   "cell_type": "code",
   "execution_count": 15,
   "metadata": {
    "execution": {
     "iopub.execute_input": "2021-06-11T06:45:04.149873Z",
     "iopub.status.busy": "2021-06-11T06:45:04.149553Z",
     "iopub.status.idle": "2021-06-11T06:45:04.161233Z",
     "shell.execute_reply": "2021-06-11T06:45:04.160031Z",
     "shell.execute_reply.started": "2021-06-11T06:45:04.149846Z"
    }
   },
   "outputs": [],
   "source": [
    "# Separating Numerical and categorical features\n",
    "df_num= df[['Survived', 'Pclass', 'Age', 'SibSp', 'Parch', 'Fare']]\n",
    "df_obj=df[['Sex', 'Embarked']]\n",
    "\n",
    "# Converting categorical data into integers using One Hot Encoding\n",
    "df_obj= pd.get_dummies(df_obj, drop_first=True)\n",
    "\n",
    "# Concatnating Numerical and categorical features\n",
    "df = pd.concat([df_num, df_obj], axis=1)"
   ]
  },
  {
   "cell_type": "code",
   "execution_count": 16,
   "metadata": {},
   "outputs": [],
   "source": [
    "# Separating Numerical and categorical features\n",
    "df_num = df_test[['Pclass', 'Age', 'SibSp', 'Parch', 'Fare']]\n",
    "df_obj = df_test[['Sex', 'Embarked']]\n",
    "\n",
    "# Converting categorical data into integers using One Hot Encoding\n",
    "df_obj= pd.get_dummies(df_obj, drop_first=True)\n",
    "\n",
    "# Concatnating Numerical and categorical features\n",
    "df_test = pd.concat([df_num, df_obj], axis=1)"
   ]
  },
  {
   "cell_type": "markdown",
   "metadata": {},
   "source": [
    "# Data Preparation for Model"
   ]
  },
  {
   "cell_type": "code",
   "execution_count": 17,
   "metadata": {
    "execution": {
     "iopub.execute_input": "2021-06-11T06:45:04.201009Z",
     "iopub.status.busy": "2021-06-11T06:45:04.200547Z",
     "iopub.status.idle": "2021-06-11T06:45:04.211589Z",
     "shell.execute_reply": "2021-06-11T06:45:04.210753Z",
     "shell.execute_reply.started": "2021-06-11T06:45:04.200969Z"
    }
   },
   "outputs": [],
   "source": [
    "# Spliting into Dependent and independent features\n",
    "X=df.drop('Survived', axis=1)\n",
    "y=df['Survived']"
   ]
  },
  {
   "cell_type": "code",
   "execution_count": 18,
   "metadata": {},
   "outputs": [],
   "source": [
    "# Balancing data\n",
    "from imblearn.over_sampling import SMOTE\n",
    "sampler = SMOTE()\n",
    "X, y = sampler.fit_resample(X, y)"
   ]
  },
  {
   "cell_type": "code",
   "execution_count": 19,
   "metadata": {
    "execution": {
     "iopub.execute_input": "2021-06-11T06:45:04.239605Z",
     "iopub.status.busy": "2021-06-11T06:45:04.239166Z",
     "iopub.status.idle": "2021-06-11T06:45:04.457116Z",
     "shell.execute_reply": "2021-06-11T06:45:04.456258Z",
     "shell.execute_reply.started": "2021-06-11T06:45:04.239562Z"
    }
   },
   "outputs": [],
   "source": [
    "# Spliting into train test part\n",
    "from sklearn.model_selection import train_test_split\n",
    "X_train, X_test, y_train, y_test = train_test_split(X, y, test_size=0.3, random_state=101)"
   ]
  },
  {
   "cell_type": "code",
   "execution_count": 20,
   "metadata": {
    "execution": {
     "iopub.execute_input": "2021-06-11T06:45:04.458632Z",
     "iopub.status.busy": "2021-06-11T06:45:04.458214Z",
     "iopub.status.idle": "2021-06-11T06:45:04.462906Z",
     "shell.execute_reply": "2021-06-11T06:45:04.461570Z",
     "shell.execute_reply.started": "2021-06-11T06:45:04.458580Z"
    }
   },
   "outputs": [],
   "source": [
    "# Scaling Data \n",
    "from sklearn.preprocessing import StandardScaler\n",
    "scaler=StandardScaler()\n",
    "scaled_X_train=scaler.fit_transform(X_train)\n",
    "scaled_X_test= scaler.fit_transform(X_test)"
   ]
  },
  {
   "cell_type": "markdown",
   "metadata": {},
   "source": [
    "# Building Model"
   ]
  },
  {
   "cell_type": "code",
   "execution_count": 27,
   "metadata": {},
   "outputs": [
    {
     "data": {
      "text/plain": [
       "330"
      ]
     },
     "execution_count": 27,
     "metadata": {},
     "output_type": "execute_result"
    }
   ],
   "source": [
    "len(X_test)"
   ]
  },
  {
   "cell_type": "code",
   "execution_count": 23,
   "metadata": {
    "execution": {
     "iopub.execute_input": "2021-06-11T06:45:04.501069Z",
     "iopub.status.busy": "2021-06-11T06:45:04.500642Z",
     "iopub.status.idle": "2021-06-11T06:45:04.615198Z",
     "shell.execute_reply": "2021-06-11T06:45:04.614067Z",
     "shell.execute_reply.started": "2021-06-11T06:45:04.500994Z"
    },
    "scrolled": false
   },
   "outputs": [
    {
     "name": "stdout",
     "output_type": "stream",
     "text": [
      "+ ==================================================================================================== +\n",
      "\u001b[1m\t\t\t1-For LogisitcRegression The Performance result is: \u001b[0m\n",
      "+ ==================================================================================================== +\n",
      "Accuracy :  0.8303030303030303\n",
      "--------------------------------------------------\n",
      "F1 :  [0.83030303 0.83030303]\n",
      "--------------------------------------------------\n",
      "Reacll :  [0.86708861 0.79651163]\n",
      "--------------------------------------------------\n",
      "Precision :  [0.79651163 0.86708861]\n",
      "--------------------------------------------------\n",
      "Confusion Matrix....\n",
      " [[137  21]\n",
      " [ 35 137]]\n",
      "--------------------------------------------------\n",
      "Classification Report....\n",
      "               precision    recall  f1-score   support\n",
      "\n",
      "           0       0.80      0.87      0.83       158\n",
      "           1       0.87      0.80      0.83       172\n",
      "\n",
      "    accuracy                           0.83       330\n",
      "   macro avg       0.83      0.83      0.83       330\n",
      "weighted avg       0.83      0.83      0.83       330\n",
      "\n",
      "--------------------------------------------------\n",
      "Plotting Confusion Matrix...\n",
      "\n"
     ]
    },
    {
     "data": {
      "image/png": "[encoded data removed]",
      "text/plain": [
       "<Figure size 432x288 with 2 Axes>"
      ]
     },
     "metadata": {},
     "output_type": "display_data"
    },
    {
     "name": "stdout",
     "output_type": "stream",
     "text": [
      "\t\t\t\t\t\t\t-----------------------------------------------------------\n",
      "\t\t\t\t\t\t\t Time for detection (LogisitcRegression) : 0.5 seconds...\n",
      "\t\t\t\t\t\t\t-----------------------------------------------------------\n",
      "\n",
      "+ ==================================================================================================== +\n",
      "\u001b[1m\t\t\t2-For KNeighborsClassifier The Performance result is: \u001b[0m\n",
      "+ ==================================================================================================== +\n",
      "Accuracy :  0.7333333333333333\n",
      "--------------------------------------------------\n",
      "F1 :  [0.70666667 0.75555556]\n",
      "--------------------------------------------------\n",
      "Reacll :  [0.67088608 0.79069767]\n",
      "--------------------------------------------------\n",
      "Precision :  [0.74647887 0.72340426]\n",
      "--------------------------------------------------\n",
      "Confusion Matrix....\n",
      " [[106  52]\n",
      " [ 36 136]]\n",
      "--------------------------------------------------\n",
      "Classification Report....\n",
      "               precision    recall  f1-score   support\n",
      "\n",
      "           0       0.75      0.67      0.71       158\n",
      "           1       0.72      0.79      0.76       172\n",
      "\n",
      "    accuracy                           0.73       330\n",
      "   macro avg       0.73      0.73      0.73       330\n",
      "weighted avg       0.73      0.73      0.73       330\n",
      "\n",
      "--------------------------------------------------\n",
      "Plotting Confusion Matrix...\n",
      "\n"
     ]
    },
    {
     "data": {
      "image/png": "[encoded data removed]",
      "text/plain": [
       "<Figure size 432x288 with 2 Axes>"
      ]
     },
     "metadata": {},
     "output_type": "display_data"
    },
    {
     "name": "stdout",
     "output_type": "stream",
     "text": [
      "\t\t\t\t\t\t\t-----------------------------------------------------------\n",
      "\t\t\t\t\t\t\t Time for detection (KNeighborsClassifier) : 0.467 seconds...\n",
      "\t\t\t\t\t\t\t-----------------------------------------------------------\n",
      "\n",
      "+ ==================================================================================================== +\n",
      "\u001b[1m\t\t\t3-For RandomForestClassifier The Performance result is: \u001b[0m\n",
      "+ ==================================================================================================== +\n",
      "Accuracy :  0.8333333333333334\n",
      "--------------------------------------------------\n",
      "F1 :  [0.82866044 0.83775811]\n",
      "--------------------------------------------------\n",
      "Reacll :  [0.84177215 0.8255814 ]\n",
      "--------------------------------------------------\n",
      "Precision :  [0.81595092 0.8502994 ]\n",
      "--------------------------------------------------\n",
      "Confusion Matrix....\n",
      " [[133  25]\n",
      " [ 30 142]]\n",
      "--------------------------------------------------\n",
      "Classification Report....\n",
      "               precision    recall  f1-score   support\n",
      "\n",
      "           0       0.82      0.84      0.83       158\n",
      "           1       0.85      0.83      0.84       172\n",
      "\n",
      "    accuracy                           0.83       330\n",
      "   macro avg       0.83      0.83      0.83       330\n",
      "weighted avg       0.83      0.83      0.83       330\n",
      "\n",
      "--------------------------------------------------\n",
      "Plotting Confusion Matrix...\n",
      "\n"
     ]
    },
    {
     "data": {
      "image/png": "[encoded data removed]",
      "text/plain": [
       "<Figure size 432x288 with 2 Axes>"
      ]
     },
     "metadata": {},
     "output_type": "display_data"
    },
    {
     "name": "stdout",
     "output_type": "stream",
     "text": [
      "\t\t\t\t\t\t\t-----------------------------------------------------------\n",
      "\t\t\t\t\t\t\t Time for detection (RandomForestClassifier) : 0.954 seconds...\n",
      "\t\t\t\t\t\t\t-----------------------------------------------------------\n",
      "\n",
      "+ ==================================================================================================== +\n",
      "\u001b[1m\t\t\t4-For DecisionTreeClassifier The Performance result is: \u001b[0m\n",
      "+ ==================================================================================================== +\n",
      "Accuracy :  0.803030303030303\n",
      "--------------------------------------------------\n",
      "F1 :  [0.79876161 0.80712166]\n",
      "--------------------------------------------------\n",
      "Reacll :  [0.8164557  0.79069767]\n",
      "--------------------------------------------------\n",
      "Precision :  [0.78181818 0.82424242]\n",
      "--------------------------------------------------\n",
      "Confusion Matrix....\n",
      " [[129  29]\n",
      " [ 36 136]]\n",
      "--------------------------------------------------\n",
      "Classification Report....\n",
      "               precision    recall  f1-score   support\n",
      "\n",
      "           0       0.78      0.82      0.80       158\n",
      "           1       0.82      0.79      0.81       172\n",
      "\n",
      "    accuracy                           0.80       330\n",
      "   macro avg       0.80      0.80      0.80       330\n",
      "weighted avg       0.80      0.80      0.80       330\n",
      "\n",
      "--------------------------------------------------\n",
      "Plotting Confusion Matrix...\n",
      "\n"
     ]
    },
    {
     "data": {
      "image/png": "[encoded data removed]",
      "text/plain": [
       "<Figure size 432x288 with 2 Axes>"
      ]
     },
     "metadata": {},
     "output_type": "display_data"
    },
    {
     "name": "stdout",
     "output_type": "stream",
     "text": [
      "\t\t\t\t\t\t\t-----------------------------------------------------------\n",
      "\t\t\t\t\t\t\t Time for detection (DecisionTreeClassifier) : 0.43 seconds...\n",
      "\t\t\t\t\t\t\t-----------------------------------------------------------\n",
      "\n"
     ]
    }
   ],
   "source": [
    "# check the performance on diffrent regressor\n",
    "models = []\n",
    "models.append(('LogisitcRegression', LogisticRegression()))\n",
    "models.append(('KNeighborsClassifier', KNeighborsClassifier()))\n",
    "models.append(('RandomForestClassifier', RandomForestClassifier()))\n",
    "models.append(('DecisionTreeClassifier', DecisionTreeClassifier()))\n",
    "\n",
    "\n",
    "# metrices to store performance\n",
    "acc = []\n",
    "pre = []\n",
    "f1 = []\n",
    "con = []\n",
    "rec = []\n",
    "\n",
    "\n",
    "import time\n",
    "i = 0\n",
    "for name,model in models:\n",
    "    i = i+1\n",
    "    start_time = time.time()\n",
    "    \n",
    "    # Fitting model to the Training set\n",
    "    clf = model\n",
    "    clf.fit(X_train, y_train)\n",
    "    \n",
    "    # predict values\n",
    "    y_pred = clf.predict(X_test)\n",
    "    \n",
    "    # Accuracy\n",
    "    accuracy = accuracy_score(y_test, y_pred)\n",
    "    acc.append(accuracy)\n",
    "    # Precision\n",
    "    precision = precision_score(y_test, y_pred, average=None)\n",
    "    pre.append(precision)\n",
    "    # Recall\n",
    "    recall = recall_score(y_test, y_pred, average=None)\n",
    "    rec.append(recall)\n",
    "    # F1 Score\n",
    "    f1_sco = f1_score(y_test, y_pred, average=None)\n",
    "    f1.append(f1_sco)\n",
    "    # Confusion Matrix\n",
    "    confusion_mat = confusion_matrix(y_test, y_pred)\n",
    "    con.append(confusion_mat)\n",
    "    # Report\n",
    "    report = classification_report(y_test, y_pred)\n",
    "\n",
    "\n",
    "    print(\"+\",\"=\"*100,\"+\")\n",
    "    print('\\033[1m' + f\"\\t\\t\\t{i}-For {name} The Performance result is: \" + '\\033[0m')\n",
    "    print(\"+\",\"=\"*100,\"+\")\n",
    "    print('Accuracy : ', accuracy)   \n",
    "    print(\"-\"*50)\n",
    "    print('F1 : ', f1_sco)\n",
    "    print(\"-\"*50)\n",
    "    print('Reacll : ', recall)\n",
    "    print(\"-\"*50)\n",
    "    print('Precision : ', precision)\n",
    "    print(\"-\"*50)\n",
    "    print('Confusion Matrix....\\n', confusion_mat)\n",
    "    print(\"-\"*50)\n",
    "    print('Classification Report....\\n', report)\n",
    "    print(\"-\"*50)\n",
    "    print('Plotting Confusion Matrix...\\n')\n",
    "    plot_confusion_matrix(clf, X_test, y_test)\n",
    "    plt.show()\n",
    "\n",
    "\n",
    "    \n",
    "    print(\"\\t\\t\\t\\t\\t\\t\\t-----------------------------------------------------------\")\n",
    "    print(f\"\\t\\t\\t\\t\\t\\t\\t Time for detection ({name}) : {round((time.time() - start_time), 3)} seconds...\")\n",
    "    print(\"\\t\\t\\t\\t\\t\\t\\t-----------------------------------------------------------\")\n",
    "    print()\n",
    "    \n"
   ]
  },
  {
   "cell_type": "code",
   "execution_count": 24,
   "metadata": {
    "execution": {
     "iopub.execute_input": "2021-06-11T06:45:04.645866Z",
     "iopub.status.busy": "2021-06-11T06:45:04.645417Z",
     "iopub.status.idle": "2021-06-11T06:45:04.655290Z",
     "shell.execute_reply": "2021-06-11T06:45:04.654183Z",
     "shell.execute_reply.started": "2021-06-11T06:45:04.645824Z"
    }
   },
   "outputs": [
    {
     "data": {
      "text/html": [
       "<div>\n",
       "<style scoped>\n",
       "    .dataframe tbody tr th:only-of-type {\n",
       "        vertical-align: middle;\n",
       "    }\n",
       "\n",
       "    .dataframe tbody tr th {\n",
       "        vertical-align: top;\n",
       "    }\n",
       "\n",
       "    .dataframe thead th {\n",
       "        text-align: right;\n",
       "    }\n",
       "</style>\n",
       "<table border=\"1\" class=\"dataframe\">\n",
       "  <thead>\n",
       "    <tr style=\"text-align: right;\">\n",
       "      <th></th>\n",
       "      <th>Model</th>\n",
       "      <th>Accuracy</th>\n",
       "      <th>Precision</th>\n",
       "      <th>Recall</th>\n",
       "      <th>F1_Score</th>\n",
       "      <th>Confusion Matrix</th>\n",
       "    </tr>\n",
       "  </thead>\n",
       "  <tbody>\n",
       "    <tr>\n",
       "      <th>0</th>\n",
       "      <td>LogisitcRegression</td>\n",
       "      <td>0.830303</td>\n",
       "      <td>[0.7965116279069767, 0.8670886075949367]</td>\n",
       "      <td>[0.8670886075949367, 0.7965116279069767]</td>\n",
       "      <td>[0.8303030303030303, 0.8303030303030303]</td>\n",
       "      <td>[[137, 21], [35, 137]]</td>\n",
       "    </tr>\n",
       "    <tr>\n",
       "      <th>1</th>\n",
       "      <td>KNeighborsClassifier</td>\n",
       "      <td>0.733333</td>\n",
       "      <td>[0.7464788732394366, 0.723404255319149]</td>\n",
       "      <td>[0.6708860759493671, 0.7906976744186046]</td>\n",
       "      <td>[0.7066666666666667, 0.7555555555555555]</td>\n",
       "      <td>[[106, 52], [36, 136]]</td>\n",
       "    </tr>\n",
       "    <tr>\n",
       "      <th>2</th>\n",
       "      <td>RandomForestClassifier</td>\n",
       "      <td>0.833333</td>\n",
       "      <td>[0.8159509202453987, 0.8502994011976048]</td>\n",
       "      <td>[0.8417721518987342, 0.8255813953488372]</td>\n",
       "      <td>[0.8286604361370717, 0.8377581120943953]</td>\n",
       "      <td>[[133, 25], [30, 142]]</td>\n",
       "    </tr>\n",
       "    <tr>\n",
       "      <th>3</th>\n",
       "      <td>DecisionTreeClassifier</td>\n",
       "      <td>0.803030</td>\n",
       "      <td>[0.7818181818181819, 0.8242424242424242]</td>\n",
       "      <td>[0.8164556962025317, 0.7906976744186046]</td>\n",
       "      <td>[0.7987616099071208, 0.8071216617210683]</td>\n",
       "      <td>[[129, 29], [36, 136]]</td>\n",
       "    </tr>\n",
       "  </tbody>\n",
       "</table>\n",
       "</div>"
      ],
      "text/plain": [
       "                    Model  Accuracy                                 Precision  \\\n",
       "0      LogisitcRegression  0.830303  [0.7965116279069767, 0.8670886075949367]   \n",
       "1    KNeighborsClassifier  0.733333   [0.7464788732394366, 0.723404255319149]   \n",
       "2  RandomForestClassifier  0.833333  [0.8159509202453987, 0.8502994011976048]   \n",
       "3  DecisionTreeClassifier  0.803030  [0.7818181818181819, 0.8242424242424242]   \n",
       "\n",
       "                                     Recall  \\\n",
       "0  [0.8670886075949367, 0.7965116279069767]   \n",
       "1  [0.6708860759493671, 0.7906976744186046]   \n",
       "2  [0.8417721518987342, 0.8255813953488372]   \n",
       "3  [0.8164556962025317, 0.7906976744186046]   \n",
       "\n",
       "                                   F1_Score        Confusion Matrix  \n",
       "0  [0.8303030303030303, 0.8303030303030303]  [[137, 21], [35, 137]]  \n",
       "1  [0.7066666666666667, 0.7555555555555555]  [[106, 52], [36, 136]]  \n",
       "2  [0.8286604361370717, 0.8377581120943953]  [[133, 25], [30, 142]]  \n",
       "3  [0.7987616099071208, 0.8071216617210683]  [[129, 29], [36, 136]]  "
      ]
     },
     "execution_count": 24,
     "metadata": {},
     "output_type": "execute_result"
    }
   ],
   "source": [
    "comp = pd.DataFrame({\"Model\": dict(models).keys(), \"Accuracy\": acc, \"Precision\": pre, \"Recall\": rec, \"F1_Score\": f1, \"Confusion Matrix\": con})\n",
    "comp"
   ]
  },
  {
   "cell_type": "code",
   "execution_count": 29,
   "metadata": {},
   "outputs": [
    {
     "data": {
      "image/png": "[encoded data removed]",
      "text/plain": [
       "<Figure size 1080x432 with 1 Axes>"
      ]
     },
     "metadata": {},
     "output_type": "display_data"
    }
   ],
   "source": [
    "plt.figure(figsize=(15, 6))\n",
    "sns.barplot(x=comp.Model, y=comp.Accuracy)\n",
    "plt.ylim(0.6, 0.9)\n",
    "plt.show()"
   ]
  },
  {
   "cell_type": "code",
   "execution_count": null,
   "metadata": {},
   "outputs": [],
   "source": []
  }
 ],
 "metadata": {
  "kernelspec": {
   "display_name": "Python 3",
   "language": "python",
   "name": "python3"
  },
  "language_info": {
   "codemirror_mode": {
    "name": "ipython",
    "version": 3
   },
   "file_extension": ".py",
   "mimetype": "text/x-python",
   "name": "python",
   "nbconvert_exporter": "python",
   "pygments_lexer": "ipython3",
   "version": "3.8.5"
  }
 },
 "nbformat": 4,
 "nbformat_minor": 4
}
